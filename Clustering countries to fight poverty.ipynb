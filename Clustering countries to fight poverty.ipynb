{
 "cells": [
  {
   "cell_type": "markdown",
   "metadata": {},
   "source": [
    "HELP international is an humanitarian NGO that fights poverty all over the world. Our task is to categorise the countries based on different socio-economic data to find those who are in the strongest need for support."
   ]
  },
  {
   "cell_type": "markdown",
   "metadata": {},
   "source": [
    "# Libraries"
   ]
  },
  {
   "cell_type": "code",
   "execution_count": 1,
   "metadata": {},
   "outputs": [],
   "source": [
    "import pandas as pd\n",
    "import numpy as np\n",
    "import matplotlib.pyplot as plt\n",
    "import seaborn as sns\n",
    "\n",
    "from sklearn.decomposition import PCA\n",
    "from sklearn.cluster import KMeans\n",
    "from sklearn.preprocessing import StandardScaler"
   ]
  },
  {
   "cell_type": "markdown",
   "metadata": {},
   "source": [
    "# Import dataset"
   ]
  },
  {
   "cell_type": "code",
   "execution_count": 2,
   "metadata": {},
   "outputs": [],
   "source": [
    "df = pd.read_csv('country-data.csv')"
   ]
  },
  {
   "cell_type": "code",
   "execution_count": 3,
   "metadata": {
    "scrolled": true
   },
   "outputs": [
    {
     "data": {
      "text/html": [
       "<div>\n",
       "<style scoped>\n",
       "    .dataframe tbody tr th:only-of-type {\n",
       "        vertical-align: middle;\n",
       "    }\n",
       "\n",
       "    .dataframe tbody tr th {\n",
       "        vertical-align: top;\n",
       "    }\n",
       "\n",
       "    .dataframe thead th {\n",
       "        text-align: right;\n",
       "    }\n",
       "</style>\n",
       "<table border=\"1\" class=\"dataframe\">\n",
       "  <thead>\n",
       "    <tr style=\"text-align: right;\">\n",
       "      <th></th>\n",
       "      <th>country</th>\n",
       "      <th>child_mort</th>\n",
       "      <th>exports</th>\n",
       "      <th>health</th>\n",
       "      <th>imports</th>\n",
       "      <th>income</th>\n",
       "      <th>inflation</th>\n",
       "      <th>life_expec</th>\n",
       "      <th>total_fer</th>\n",
       "      <th>gdpp</th>\n",
       "    </tr>\n",
       "  </thead>\n",
       "  <tbody>\n",
       "    <tr>\n",
       "      <th>0</th>\n",
       "      <td>Afghanistan</td>\n",
       "      <td>90.2</td>\n",
       "      <td>10.0</td>\n",
       "      <td>7.58</td>\n",
       "      <td>44.9</td>\n",
       "      <td>1610</td>\n",
       "      <td>9.44</td>\n",
       "      <td>56.2</td>\n",
       "      <td>5.82</td>\n",
       "      <td>553</td>\n",
       "    </tr>\n",
       "    <tr>\n",
       "      <th>1</th>\n",
       "      <td>Albania</td>\n",
       "      <td>16.6</td>\n",
       "      <td>28.0</td>\n",
       "      <td>6.55</td>\n",
       "      <td>48.6</td>\n",
       "      <td>9930</td>\n",
       "      <td>4.49</td>\n",
       "      <td>76.3</td>\n",
       "      <td>1.65</td>\n",
       "      <td>4090</td>\n",
       "    </tr>\n",
       "    <tr>\n",
       "      <th>2</th>\n",
       "      <td>Algeria</td>\n",
       "      <td>27.3</td>\n",
       "      <td>38.4</td>\n",
       "      <td>4.17</td>\n",
       "      <td>31.4</td>\n",
       "      <td>12900</td>\n",
       "      <td>16.10</td>\n",
       "      <td>76.5</td>\n",
       "      <td>2.89</td>\n",
       "      <td>4460</td>\n",
       "    </tr>\n",
       "    <tr>\n",
       "      <th>3</th>\n",
       "      <td>Angola</td>\n",
       "      <td>119.0</td>\n",
       "      <td>62.3</td>\n",
       "      <td>2.85</td>\n",
       "      <td>42.9</td>\n",
       "      <td>5900</td>\n",
       "      <td>22.40</td>\n",
       "      <td>60.1</td>\n",
       "      <td>6.16</td>\n",
       "      <td>3530</td>\n",
       "    </tr>\n",
       "    <tr>\n",
       "      <th>4</th>\n",
       "      <td>Antigua and Barbuda</td>\n",
       "      <td>10.3</td>\n",
       "      <td>45.5</td>\n",
       "      <td>6.03</td>\n",
       "      <td>58.9</td>\n",
       "      <td>19100</td>\n",
       "      <td>1.44</td>\n",
       "      <td>76.8</td>\n",
       "      <td>2.13</td>\n",
       "      <td>12200</td>\n",
       "    </tr>\n",
       "  </tbody>\n",
       "</table>\n",
       "</div>"
      ],
      "text/plain": [
       "               country  child_mort  exports  health  imports  income  \\\n",
       "0          Afghanistan        90.2     10.0    7.58     44.9    1610   \n",
       "1              Albania        16.6     28.0    6.55     48.6    9930   \n",
       "2              Algeria        27.3     38.4    4.17     31.4   12900   \n",
       "3               Angola       119.0     62.3    2.85     42.9    5900   \n",
       "4  Antigua and Barbuda        10.3     45.5    6.03     58.9   19100   \n",
       "\n",
       "   inflation  life_expec  total_fer   gdpp  \n",
       "0       9.44        56.2       5.82    553  \n",
       "1       4.49        76.3       1.65   4090  \n",
       "2      16.10        76.5       2.89   4460  \n",
       "3      22.40        60.1       6.16   3530  \n",
       "4       1.44        76.8       2.13  12200  "
      ]
     },
     "execution_count": 3,
     "metadata": {},
     "output_type": "execute_result"
    }
   ],
   "source": [
    "df.head()"
   ]
  },
  {
   "cell_type": "code",
   "execution_count": 4,
   "metadata": {},
   "outputs": [
    {
     "data": {
      "text/plain": [
       "(167, 10)"
      ]
     },
     "execution_count": 4,
     "metadata": {},
     "output_type": "execute_result"
    }
   ],
   "source": [
    "df.shape"
   ]
  },
  {
   "cell_type": "markdown",
   "metadata": {},
   "source": [
    "There are 10 socio-economic variables on 167 different countries."
   ]
  },
  {
   "cell_type": "markdown",
   "metadata": {},
   "source": [
    "### Variable description"
   ]
  },
  {
   "cell_type": "markdown",
   "metadata": {},
   "source": [
    "'country': Name of the country <br>\n",
    "'child_mort': Death of children under age of 5 per births <br>\n",
    "'exports': Exports of good and services per capita. Given as the percentage of GDP per capita <br>\n",
    "'health': Total health spending per capita. Given as percentage of GDP per capita <br>\n",
    "'imports': Imports of good and services per capita. Given as the percentage of GDP per capita <br>\n",
    "'income': Net income per person <br>\n",
    "'inflation': Growth rate of price index <br>\n",
    "'life_expec': Expected number of years a new born will live <br>\n",
    "'total_fer': Number of children that is born by each woman on average <br>\n",
    "'gdpp': GDP per capita <br>"
   ]
  },
  {
   "cell_type": "code",
   "execution_count": 5,
   "metadata": {},
   "outputs": [
    {
     "data": {
      "text/plain": [
       "country       0\n",
       "child_mort    0\n",
       "exports       0\n",
       "health        0\n",
       "imports       0\n",
       "income        0\n",
       "inflation     0\n",
       "life_expec    0\n",
       "total_fer     0\n",
       "gdpp          0\n",
       "dtype: int64"
      ]
     },
     "execution_count": 5,
     "metadata": {},
     "output_type": "execute_result"
    }
   ],
   "source": [
    "df.isnull().sum()"
   ]
  },
  {
   "cell_type": "markdown",
   "metadata": {},
   "source": [
    "There are no missing values."
   ]
  },
  {
   "cell_type": "markdown",
   "metadata": {},
   "source": [
    "# Exploratory Analysis"
   ]
  },
  {
   "cell_type": "markdown",
   "metadata": {},
   "source": [
    "## Univariate Analysis"
   ]
  },
  {
   "cell_type": "code",
   "execution_count": 6,
   "metadata": {
    "scrolled": true
   },
   "outputs": [
    {
     "data": {
      "text/html": [
       "<div>\n",
       "<style scoped>\n",
       "    .dataframe tbody tr th:only-of-type {\n",
       "        vertical-align: middle;\n",
       "    }\n",
       "\n",
       "    .dataframe tbody tr th {\n",
       "        vertical-align: top;\n",
       "    }\n",
       "\n",
       "    .dataframe thead th {\n",
       "        text-align: right;\n",
       "    }\n",
       "</style>\n",
       "<table border=\"1\" class=\"dataframe\">\n",
       "  <thead>\n",
       "    <tr style=\"text-align: right;\">\n",
       "      <th></th>\n",
       "      <th>child_mort</th>\n",
       "      <th>exports</th>\n",
       "      <th>health</th>\n",
       "      <th>imports</th>\n",
       "      <th>income</th>\n",
       "      <th>inflation</th>\n",
       "      <th>life_expec</th>\n",
       "      <th>total_fer</th>\n",
       "      <th>gdpp</th>\n",
       "    </tr>\n",
       "  </thead>\n",
       "  <tbody>\n",
       "    <tr>\n",
       "      <th>count</th>\n",
       "      <td>167.000000</td>\n",
       "      <td>167.000000</td>\n",
       "      <td>167.000000</td>\n",
       "      <td>167.000000</td>\n",
       "      <td>167.000000</td>\n",
       "      <td>167.000000</td>\n",
       "      <td>167.000000</td>\n",
       "      <td>167.000000</td>\n",
       "      <td>167.000000</td>\n",
       "    </tr>\n",
       "    <tr>\n",
       "      <th>mean</th>\n",
       "      <td>38.270060</td>\n",
       "      <td>41.108976</td>\n",
       "      <td>6.815689</td>\n",
       "      <td>46.890215</td>\n",
       "      <td>17144.688623</td>\n",
       "      <td>7.781832</td>\n",
       "      <td>70.555689</td>\n",
       "      <td>2.947964</td>\n",
       "      <td>12964.155689</td>\n",
       "    </tr>\n",
       "    <tr>\n",
       "      <th>std</th>\n",
       "      <td>40.328931</td>\n",
       "      <td>27.412010</td>\n",
       "      <td>2.746837</td>\n",
       "      <td>24.209589</td>\n",
       "      <td>19278.067698</td>\n",
       "      <td>10.570704</td>\n",
       "      <td>8.893172</td>\n",
       "      <td>1.513848</td>\n",
       "      <td>18328.704809</td>\n",
       "    </tr>\n",
       "    <tr>\n",
       "      <th>min</th>\n",
       "      <td>2.600000</td>\n",
       "      <td>0.109000</td>\n",
       "      <td>1.810000</td>\n",
       "      <td>0.065900</td>\n",
       "      <td>609.000000</td>\n",
       "      <td>-4.210000</td>\n",
       "      <td>32.100000</td>\n",
       "      <td>1.150000</td>\n",
       "      <td>231.000000</td>\n",
       "    </tr>\n",
       "    <tr>\n",
       "      <th>25%</th>\n",
       "      <td>8.250000</td>\n",
       "      <td>23.800000</td>\n",
       "      <td>4.920000</td>\n",
       "      <td>30.200000</td>\n",
       "      <td>3355.000000</td>\n",
       "      <td>1.810000</td>\n",
       "      <td>65.300000</td>\n",
       "      <td>1.795000</td>\n",
       "      <td>1330.000000</td>\n",
       "    </tr>\n",
       "    <tr>\n",
       "      <th>50%</th>\n",
       "      <td>19.300000</td>\n",
       "      <td>35.000000</td>\n",
       "      <td>6.320000</td>\n",
       "      <td>43.300000</td>\n",
       "      <td>9960.000000</td>\n",
       "      <td>5.390000</td>\n",
       "      <td>73.100000</td>\n",
       "      <td>2.410000</td>\n",
       "      <td>4660.000000</td>\n",
       "    </tr>\n",
       "    <tr>\n",
       "      <th>75%</th>\n",
       "      <td>62.100000</td>\n",
       "      <td>51.350000</td>\n",
       "      <td>8.600000</td>\n",
       "      <td>58.750000</td>\n",
       "      <td>22800.000000</td>\n",
       "      <td>10.750000</td>\n",
       "      <td>76.800000</td>\n",
       "      <td>3.880000</td>\n",
       "      <td>14050.000000</td>\n",
       "    </tr>\n",
       "    <tr>\n",
       "      <th>max</th>\n",
       "      <td>208.000000</td>\n",
       "      <td>200.000000</td>\n",
       "      <td>17.900000</td>\n",
       "      <td>174.000000</td>\n",
       "      <td>125000.000000</td>\n",
       "      <td>104.000000</td>\n",
       "      <td>82.800000</td>\n",
       "      <td>7.490000</td>\n",
       "      <td>105000.000000</td>\n",
       "    </tr>\n",
       "  </tbody>\n",
       "</table>\n",
       "</div>"
      ],
      "text/plain": [
       "       child_mort     exports      health     imports         income  \\\n",
       "count  167.000000  167.000000  167.000000  167.000000     167.000000   \n",
       "mean    38.270060   41.108976    6.815689   46.890215   17144.688623   \n",
       "std     40.328931   27.412010    2.746837   24.209589   19278.067698   \n",
       "min      2.600000    0.109000    1.810000    0.065900     609.000000   \n",
       "25%      8.250000   23.800000    4.920000   30.200000    3355.000000   \n",
       "50%     19.300000   35.000000    6.320000   43.300000    9960.000000   \n",
       "75%     62.100000   51.350000    8.600000   58.750000   22800.000000   \n",
       "max    208.000000  200.000000   17.900000  174.000000  125000.000000   \n",
       "\n",
       "        inflation  life_expec   total_fer           gdpp  \n",
       "count  167.000000  167.000000  167.000000     167.000000  \n",
       "mean     7.781832   70.555689    2.947964   12964.155689  \n",
       "std     10.570704    8.893172    1.513848   18328.704809  \n",
       "min     -4.210000   32.100000    1.150000     231.000000  \n",
       "25%      1.810000   65.300000    1.795000    1330.000000  \n",
       "50%      5.390000   73.100000    2.410000    4660.000000  \n",
       "75%     10.750000   76.800000    3.880000   14050.000000  \n",
       "max    104.000000   82.800000    7.490000  105000.000000  "
      ]
     },
     "execution_count": 6,
     "metadata": {},
     "output_type": "execute_result"
    }
   ],
   "source": [
    "df.describe()"
   ]
  },
  {
   "cell_type": "markdown",
   "metadata": {},
   "source": [
    "Let's take the absolute values of exports, health and imports (per capita) as those are more useful for detecting a country's development I think."
   ]
  },
  {
   "cell_type": "code",
   "execution_count": 7,
   "metadata": {},
   "outputs": [],
   "source": [
    "df_edited = df.copy()"
   ]
  },
  {
   "cell_type": "code",
   "execution_count": 8,
   "metadata": {},
   "outputs": [],
   "source": [
    "df_edited['exports'] = df_edited['exports']*df['gdpp']/100\n",
    "df_edited['health'] = df_edited['health']*df['gdpp']/100\n",
    "df_edited['imports'] = df_edited['imports']*df['gdpp']/100"
   ]
  },
  {
   "cell_type": "code",
   "execution_count": 9,
   "metadata": {},
   "outputs": [
    {
     "data": {
      "text/html": [
       "<div>\n",
       "<style scoped>\n",
       "    .dataframe tbody tr th:only-of-type {\n",
       "        vertical-align: middle;\n",
       "    }\n",
       "\n",
       "    .dataframe tbody tr th {\n",
       "        vertical-align: top;\n",
       "    }\n",
       "\n",
       "    .dataframe thead th {\n",
       "        text-align: right;\n",
       "    }\n",
       "</style>\n",
       "<table border=\"1\" class=\"dataframe\">\n",
       "  <thead>\n",
       "    <tr style=\"text-align: right;\">\n",
       "      <th></th>\n",
       "      <th>child_mort</th>\n",
       "      <th>exports</th>\n",
       "      <th>health</th>\n",
       "      <th>imports</th>\n",
       "      <th>income</th>\n",
       "      <th>inflation</th>\n",
       "      <th>life_expec</th>\n",
       "      <th>total_fer</th>\n",
       "      <th>gdpp</th>\n",
       "    </tr>\n",
       "  </thead>\n",
       "  <tbody>\n",
       "    <tr>\n",
       "      <th>count</th>\n",
       "      <td>167.000000</td>\n",
       "      <td>167.000000</td>\n",
       "      <td>167.000000</td>\n",
       "      <td>167.000000</td>\n",
       "      <td>167.000000</td>\n",
       "      <td>167.000000</td>\n",
       "      <td>167.000000</td>\n",
       "      <td>167.000000</td>\n",
       "      <td>167.000000</td>\n",
       "    </tr>\n",
       "    <tr>\n",
       "      <th>mean</th>\n",
       "      <td>38.270060</td>\n",
       "      <td>7420.618847</td>\n",
       "      <td>1056.733204</td>\n",
       "      <td>6588.352108</td>\n",
       "      <td>17144.688623</td>\n",
       "      <td>7.781832</td>\n",
       "      <td>70.555689</td>\n",
       "      <td>2.947964</td>\n",
       "      <td>12964.155689</td>\n",
       "    </tr>\n",
       "    <tr>\n",
       "      <th>std</th>\n",
       "      <td>40.328931</td>\n",
       "      <td>17973.885795</td>\n",
       "      <td>1801.408906</td>\n",
       "      <td>14710.810418</td>\n",
       "      <td>19278.067698</td>\n",
       "      <td>10.570704</td>\n",
       "      <td>8.893172</td>\n",
       "      <td>1.513848</td>\n",
       "      <td>18328.704809</td>\n",
       "    </tr>\n",
       "    <tr>\n",
       "      <th>min</th>\n",
       "      <td>2.600000</td>\n",
       "      <td>1.076920</td>\n",
       "      <td>12.821200</td>\n",
       "      <td>0.651092</td>\n",
       "      <td>609.000000</td>\n",
       "      <td>-4.210000</td>\n",
       "      <td>32.100000</td>\n",
       "      <td>1.150000</td>\n",
       "      <td>231.000000</td>\n",
       "    </tr>\n",
       "    <tr>\n",
       "      <th>25%</th>\n",
       "      <td>8.250000</td>\n",
       "      <td>447.140000</td>\n",
       "      <td>78.535500</td>\n",
       "      <td>640.215000</td>\n",
       "      <td>3355.000000</td>\n",
       "      <td>1.810000</td>\n",
       "      <td>65.300000</td>\n",
       "      <td>1.795000</td>\n",
       "      <td>1330.000000</td>\n",
       "    </tr>\n",
       "    <tr>\n",
       "      <th>50%</th>\n",
       "      <td>19.300000</td>\n",
       "      <td>1777.440000</td>\n",
       "      <td>321.886000</td>\n",
       "      <td>2045.580000</td>\n",
       "      <td>9960.000000</td>\n",
       "      <td>5.390000</td>\n",
       "      <td>73.100000</td>\n",
       "      <td>2.410000</td>\n",
       "      <td>4660.000000</td>\n",
       "    </tr>\n",
       "    <tr>\n",
       "      <th>75%</th>\n",
       "      <td>62.100000</td>\n",
       "      <td>7278.000000</td>\n",
       "      <td>976.940000</td>\n",
       "      <td>7719.600000</td>\n",
       "      <td>22800.000000</td>\n",
       "      <td>10.750000</td>\n",
       "      <td>76.800000</td>\n",
       "      <td>3.880000</td>\n",
       "      <td>14050.000000</td>\n",
       "    </tr>\n",
       "    <tr>\n",
       "      <th>max</th>\n",
       "      <td>208.000000</td>\n",
       "      <td>183750.000000</td>\n",
       "      <td>8663.600000</td>\n",
       "      <td>149100.000000</td>\n",
       "      <td>125000.000000</td>\n",
       "      <td>104.000000</td>\n",
       "      <td>82.800000</td>\n",
       "      <td>7.490000</td>\n",
       "      <td>105000.000000</td>\n",
       "    </tr>\n",
       "  </tbody>\n",
       "</table>\n",
       "</div>"
      ],
      "text/plain": [
       "       child_mort        exports       health        imports         income  \\\n",
       "count  167.000000     167.000000   167.000000     167.000000     167.000000   \n",
       "mean    38.270060    7420.618847  1056.733204    6588.352108   17144.688623   \n",
       "std     40.328931   17973.885795  1801.408906   14710.810418   19278.067698   \n",
       "min      2.600000       1.076920    12.821200       0.651092     609.000000   \n",
       "25%      8.250000     447.140000    78.535500     640.215000    3355.000000   \n",
       "50%     19.300000    1777.440000   321.886000    2045.580000    9960.000000   \n",
       "75%     62.100000    7278.000000   976.940000    7719.600000   22800.000000   \n",
       "max    208.000000  183750.000000  8663.600000  149100.000000  125000.000000   \n",
       "\n",
       "        inflation  life_expec   total_fer           gdpp  \n",
       "count  167.000000  167.000000  167.000000     167.000000  \n",
       "mean     7.781832   70.555689    2.947964   12964.155689  \n",
       "std     10.570704    8.893172    1.513848   18328.704809  \n",
       "min     -4.210000   32.100000    1.150000     231.000000  \n",
       "25%      1.810000   65.300000    1.795000    1330.000000  \n",
       "50%      5.390000   73.100000    2.410000    4660.000000  \n",
       "75%     10.750000   76.800000    3.880000   14050.000000  \n",
       "max    104.000000   82.800000    7.490000  105000.000000  "
      ]
     },
     "execution_count": 9,
     "metadata": {},
     "output_type": "execute_result"
    }
   ],
   "source": [
    "df_edited.describe()"
   ]
  },
  {
   "cell_type": "markdown",
   "metadata": {},
   "source": [
    "### Top 10 countries with the highest child mortality"
   ]
  },
  {
   "cell_type": "code",
   "execution_count": 10,
   "metadata": {},
   "outputs": [
    {
     "data": {
      "image/png": "[encoded data removed]",
      "text/plain": [
       "<Figure size 432x288 with 1 Axes>"
      ]
     },
     "metadata": {
      "needs_background": "light"
     },
     "output_type": "display_data"
    }
   ],
   "source": [
    "df_edited_child_mort = df_edited.sort_values('child_mort', ascending = False).iloc[:10]\n",
    "plt.barh(df_edited_child_mort['country'], df_edited_child_mort['child_mort'])\n",
    "plt.show()"
   ]
  },
  {
   "cell_type": "markdown",
   "metadata": {},
   "source": [
    "### Top 10 countries with the lowest health spending as % of GDP"
   ]
  },
  {
   "cell_type": "code",
   "execution_count": 11,
   "metadata": {},
   "outputs": [
    {
     "data": {
      "image/png": "[encoded data removed]",
      "text/plain": [
       "<Figure size 432x288 with 1 Axes>"
      ]
     },
     "metadata": {
      "needs_background": "light"
     },
     "output_type": "display_data"
    }
   ],
   "source": [
    "df_edited_health = df_edited.sort_values('health', ascending = True).iloc[:10]\n",
    "plt.barh(df_edited_health['country'], df_edited_health['health'])\n",
    "plt.show()"
   ]
  },
  {
   "cell_type": "markdown",
   "metadata": {},
   "source": [
    "### Top 10 countries with the lowest income per capita"
   ]
  },
  {
   "cell_type": "code",
   "execution_count": 12,
   "metadata": {},
   "outputs": [
    {
     "data": {
      "image/png": "[encoded data removed]",
      "text/plain": [
       "<Figure size 432x288 with 1 Axes>"
      ]
     },
     "metadata": {
      "needs_background": "light"
     },
     "output_type": "display_data"
    }
   ],
   "source": [
    "df_edited_income = df_edited.sort_values('income', ascending = True).iloc[:10]\n",
    "plt.barh(df_edited_income['country'], df_edited_income['income'])\n",
    "plt.show()"
   ]
  },
  {
   "cell_type": "markdown",
   "metadata": {},
   "source": [
    "### Top 10 countries with the lowest life expectancy"
   ]
  },
  {
   "cell_type": "code",
   "execution_count": 13,
   "metadata": {},
   "outputs": [
    {
     "data": {
      "image/png": "[encoded data removed]",
      "text/plain": [
       "<Figure size 432x288 with 1 Axes>"
      ]
     },
     "metadata": {
      "needs_background": "light"
     },
     "output_type": "display_data"
    }
   ],
   "source": [
    "df_edited_life_exp = df_edited.sort_values('life_expec', ascending = True).iloc[:10]\n",
    "plt.barh(df_edited_life_exp['country'], df_edited_life_exp['life_expec'])\n",
    "plt.show()"
   ]
  },
  {
   "cell_type": "markdown",
   "metadata": {},
   "source": [
    "### Top 10 countries with the lowest GDP per capita"
   ]
  },
  {
   "cell_type": "code",
   "execution_count": 14,
   "metadata": {},
   "outputs": [
    {
     "data": {
      "image/png": "[encoded data removed]",
      "text/plain": [
       "<Figure size 432x288 with 1 Axes>"
      ]
     },
     "metadata": {
      "needs_background": "light"
     },
     "output_type": "display_data"
    }
   ],
   "source": [
    "df_edited_gdp = df_edited.sort_values('gdpp', ascending = True).iloc[:10]\n",
    "plt.barh(df_edited_gdp['country'], df_edited_gdp['gdpp'])\n",
    "plt.show()"
   ]
  },
  {
   "cell_type": "markdown",
   "metadata": {},
   "source": [
    "## Bivariate Analysis"
   ]
  },
  {
   "cell_type": "markdown",
   "metadata": {},
   "source": [
    "### Heatmap"
   ]
  },
  {
   "cell_type": "code",
   "execution_count": 30,
   "metadata": {},
   "outputs": [
    {
     "data": {
      "image/png": "[encoded data removed]",
      "text/plain": [
       "<Figure size 432x288 with 2 Axes>"
      ]
     },
     "metadata": {
      "needs_background": "light"
     },
     "output_type": "display_data"
    }
   ],
   "source": [
    "sns.heatmap(df_edited.corr(), \n",
    "            vmin=-1,\n",
    "            vmax=1,\n",
    "            center=0,\n",
    "            cmap=sns.diverging_palette(220, 10, as_cmap=True),\n",
    "            annot = True)\n",
    "plt.show()"
   ]
  },
  {
   "cell_type": "markdown",
   "metadata": {},
   "source": [
    "### Is child mortality correlated with income?"
   ]
  },
  {
   "cell_type": "code",
   "execution_count": 16,
   "metadata": {},
   "outputs": [
    {
     "data": {
      "image/png": "[encoded data removed]",
      "text/plain": [
       "<Figure size 432x288 with 1 Axes>"
      ]
     },
     "metadata": {
      "needs_background": "light"
     },
     "output_type": "display_data"
    }
   ],
   "source": [
    "plt.scatter(x = df_edited['child_mort'], y = df_edited['income'])\n",
    "plt.xlabel('Child Mortality')\n",
    "plt.ylabel('Income per capita')\n",
    "plt.show()"
   ]
  },
  {
   "cell_type": "markdown",
   "metadata": {},
   "source": [
    "### Is life expectancy correlated with GDP?"
   ]
  },
  {
   "cell_type": "code",
   "execution_count": 17,
   "metadata": {},
   "outputs": [
    {
     "data": {
      "image/png": "[encoded data removed]",
      "text/plain": [
       "<Figure size 432x288 with 1 Axes>"
      ]
     },
     "metadata": {
      "needs_background": "light"
     },
     "output_type": "display_data"
    }
   ],
   "source": [
    "plt.scatter(x = df_edited['gdpp'], y = df_edited['life_expec'])\n",
    "plt.xlabel('GDP per capita')\n",
    "plt.ylabel('Life expectancy')\n",
    "plt.show()"
   ]
  },
  {
   "cell_type": "markdown",
   "metadata": {},
   "source": [
    "# Principal Component Analysis"
   ]
  },
  {
   "cell_type": "markdown",
   "metadata": {},
   "source": [
    "With PCA we can reduce the dimensionality of our dataset without losing too much information. There are some benefits by doing so. A lower dimensionality (e.g. less features) means that we improve the performance of our algorithm which will be K-Means clustering. The risk of overfitting is lower accordingly. Before applying PCA, it is important to standardize the data."
   ]
  },
  {
   "cell_type": "code",
   "execution_count": 18,
   "metadata": {},
   "outputs": [],
   "source": [
    "x = df_edited.iloc[:,1:]\n",
    "scaler = StandardScaler()\n",
    "df_std = scaler.fit_transform(x)"
   ]
  },
  {
   "cell_type": "code",
   "execution_count": 19,
   "metadata": {},
   "outputs": [],
   "source": [
    "pca = PCA()"
   ]
  },
  {
   "cell_type": "code",
   "execution_count": 20,
   "metadata": {},
   "outputs": [
    {
     "data": {
      "text/plain": [
       "PCA()"
      ]
     },
     "execution_count": 20,
     "metadata": {},
     "output_type": "execute_result"
    }
   ],
   "source": [
    "pca.fit(df_std)"
   ]
  },
  {
   "cell_type": "code",
   "execution_count": 21,
   "metadata": {},
   "outputs": [
    {
     "data": {
      "text/plain": [
       "array([5.89372984e-01, 1.84451685e-01, 9.91147170e-02, 6.07227801e-02,\n",
       "       3.02917253e-02, 2.45982702e-02, 9.39743701e-03, 1.55641971e-03,\n",
       "       4.93981394e-04])"
      ]
     },
     "execution_count": 21,
     "metadata": {},
     "output_type": "execute_result"
    }
   ],
   "source": [
    "pca.explained_variance_ratio_"
   ]
  },
  {
   "cell_type": "code",
   "execution_count": 23,
   "metadata": {},
   "outputs": [
    {
     "data": {
      "image/png": "[encoded data removed]",
      "text/plain": [
       "<Figure size 720x576 with 1 Axes>"
      ]
     },
     "metadata": {
      "needs_background": "light"
     },
     "output_type": "display_data"
    }
   ],
   "source": [
    "plt.figure(figsize = (10,8))\n",
    "plt.plot(range(1,10), pca.explained_variance_ratio_.cumsum(), marker = 'o', linestyle = '--')\n",
    "plt.title('Explained Variance by Components')\n",
    "plt.xlabel('Number of Components')\n",
    "plt.ylabel('Cumulative Explained Variance')\n",
    "plt.show()"
   ]
  },
  {
   "cell_type": "markdown",
   "metadata": {},
   "source": [
    "Keeping 4 Principal Components would reduce the number of features significantly while preserving most of the variability (more than 90% of the variance is explained)"
   ]
  },
  {
   "cell_type": "code",
   "execution_count": 24,
   "metadata": {},
   "outputs": [
    {
     "data": {
      "text/plain": [
       "PCA(n_components=4)"
      ]
     },
     "execution_count": 24,
     "metadata": {},
     "output_type": "execute_result"
    }
   ],
   "source": [
    "pca = PCA(n_components = 4)\n",
    "pca.fit(df_std)"
   ]
  },
  {
   "cell_type": "code",
   "execution_count": 25,
   "metadata": {},
   "outputs": [
    {
     "data": {
      "text/plain": [
       "array([[-0.31639186,  0.34288671,  0.358535  ,  0.34486492,  0.38004113,\n",
       "        -0.14308531,  0.34385651, -0.30284224,  0.39998795],\n",
       "       [ 0.47626735,  0.39731091,  0.1550529 ,  0.37078075,  0.12838448,\n",
       "         0.22126089, -0.36981973,  0.4597152 ,  0.2006241 ],\n",
       "       [-0.15001225, -0.03057367, -0.07570322, -0.07217386,  0.14576421,\n",
       "         0.94841868,  0.19675173, -0.07783431,  0.01033941],\n",
       "       [-0.14805195,  0.44942527, -0.59971228,  0.46179779, -0.15480592,\n",
       "        -0.00762798, -0.01839465, -0.21392805, -0.36477239]])"
      ]
     },
     "execution_count": 25,
     "metadata": {},
     "output_type": "execute_result"
    }
   ],
   "source": [
    "pca.components_"
   ]
  },
  {
   "cell_type": "code",
   "execution_count": 27,
   "metadata": {},
   "outputs": [
    {
     "data": {
      "text/html": [
       "<div>\n",
       "<style scoped>\n",
       "    .dataframe tbody tr th:only-of-type {\n",
       "        vertical-align: middle;\n",
       "    }\n",
       "\n",
       "    .dataframe tbody tr th {\n",
       "        vertical-align: top;\n",
       "    }\n",
       "\n",
       "    .dataframe thead th {\n",
       "        text-align: right;\n",
       "    }\n",
       "</style>\n",
       "<table border=\"1\" class=\"dataframe\">\n",
       "  <thead>\n",
       "    <tr style=\"text-align: right;\">\n",
       "      <th></th>\n",
       "      <th>child_mort</th>\n",
       "      <th>exports</th>\n",
       "      <th>health</th>\n",
       "      <th>imports</th>\n",
       "      <th>income</th>\n",
       "      <th>inflation</th>\n",
       "      <th>life_expec</th>\n",
       "      <th>total_fer</th>\n",
       "      <th>gdpp</th>\n",
       "    </tr>\n",
       "  </thead>\n",
       "  <tbody>\n",
       "    <tr>\n",
       "      <th>PC1</th>\n",
       "      <td>-0.316392</td>\n",
       "      <td>0.342887</td>\n",
       "      <td>0.358535</td>\n",
       "      <td>0.344865</td>\n",
       "      <td>0.380041</td>\n",
       "      <td>-0.143085</td>\n",
       "      <td>0.343857</td>\n",
       "      <td>-0.302842</td>\n",
       "      <td>0.399988</td>\n",
       "    </tr>\n",
       "    <tr>\n",
       "      <th>PC2</th>\n",
       "      <td>0.476267</td>\n",
       "      <td>0.397311</td>\n",
       "      <td>0.155053</td>\n",
       "      <td>0.370781</td>\n",
       "      <td>0.128384</td>\n",
       "      <td>0.221261</td>\n",
       "      <td>-0.369820</td>\n",
       "      <td>0.459715</td>\n",
       "      <td>0.200624</td>\n",
       "    </tr>\n",
       "    <tr>\n",
       "      <th>PC3</th>\n",
       "      <td>-0.150012</td>\n",
       "      <td>-0.030574</td>\n",
       "      <td>-0.075703</td>\n",
       "      <td>-0.072174</td>\n",
       "      <td>0.145764</td>\n",
       "      <td>0.948419</td>\n",
       "      <td>0.196752</td>\n",
       "      <td>-0.077834</td>\n",
       "      <td>0.010339</td>\n",
       "    </tr>\n",
       "    <tr>\n",
       "      <th>PC4</th>\n",
       "      <td>-0.148052</td>\n",
       "      <td>0.449425</td>\n",
       "      <td>-0.599712</td>\n",
       "      <td>0.461798</td>\n",
       "      <td>-0.154806</td>\n",
       "      <td>-0.007628</td>\n",
       "      <td>-0.018395</td>\n",
       "      <td>-0.213928</td>\n",
       "      <td>-0.364772</td>\n",
       "    </tr>\n",
       "  </tbody>\n",
       "</table>\n",
       "</div>"
      ],
      "text/plain": [
       "     child_mort   exports    health   imports    income  inflation  \\\n",
       "PC1   -0.316392  0.342887  0.358535  0.344865  0.380041  -0.143085   \n",
       "PC2    0.476267  0.397311  0.155053  0.370781  0.128384   0.221261   \n",
       "PC3   -0.150012 -0.030574 -0.075703 -0.072174  0.145764   0.948419   \n",
       "PC4   -0.148052  0.449425 -0.599712  0.461798 -0.154806  -0.007628   \n",
       "\n",
       "     life_expec  total_fer      gdpp  \n",
       "PC1    0.343857  -0.302842  0.399988  \n",
       "PC2   -0.369820   0.459715  0.200624  \n",
       "PC3    0.196752  -0.077834  0.010339  \n",
       "PC4   -0.018395  -0.213928 -0.364772  "
      ]
     },
     "execution_count": 27,
     "metadata": {},
     "output_type": "execute_result"
    }
   ],
   "source": [
    "df_pca_comp = pd.DataFrame(data = pca.components_,\n",
    "                          columns = x.columns.values,\n",
    "                          index = ['PC1', 'PC2', 'PC3', 'PC4'])\n",
    "df_pca_comp"
   ]
  },
  {
   "cell_type": "markdown",
   "metadata": {},
   "source": [
    "This table shows the loadings of the components. The loadings are nothing else than the correlation coefficients between the components and the original features"
   ]
  },
  {
   "cell_type": "code",
   "execution_count": 29,
   "metadata": {
    "scrolled": true
   },
   "outputs": [
    {
     "data": {
      "text/plain": [
       "<matplotlib.axes._subplots.AxesSubplot at 0x130cd98d0>"
      ]
     },
     "execution_count": 29,
     "metadata": {},
     "output_type": "execute_result"
    },
    {
     "data": {
      "image/png": "[encoded data removed]",
      "text/plain": [
       "<Figure size 432x288 with 2 Axes>"
      ]
     },
     "metadata": {
      "needs_background": "light"
     },
     "output_type": "display_data"
    }
   ],
   "source": [
    "sns.heatmap(df_pca_comp,\n",
    "           vmin = -1,\n",
    "           vmax = 1,\n",
    "           cmap=sns.diverging_palette(220, 10, as_cmap=True),\n",
    "           annot = True)"
   ]
  },
  {
   "cell_type": "code",
   "execution_count": 31,
   "metadata": {
    "scrolled": true
   },
   "outputs": [
    {
     "data": {
      "text/plain": [
       "array([[-2.63557499e+00,  1.47226739e+00, -5.49488868e-01,\n",
       "        -2.42325540e-01],\n",
       "       [-2.42055643e-02, -1.42989187e+00, -1.41232909e-02,\n",
       "         4.50645370e-01],\n",
       "       [-4.59557398e-01, -6.75495376e-01,  9.59354680e-01,\n",
       "         2.18455926e-01],\n",
       "       [-2.72263028e+00,  2.17233183e+00,  6.00214575e-01,\n",
       "        -4.33977682e-01],\n",
       "       [ 6.48597043e-01, -1.02343678e+00, -2.57430041e-01,\n",
       "         2.89201120e-01],\n",
       "       [ 3.54221548e-02, -6.85250630e-01,  1.46869733e+00,\n",
       "        -2.88383229e-02],\n",
       "       [-3.34554724e-01, -1.27188941e+00,  1.90564198e-01,\n",
       "         5.00246865e-01],\n",
       "       [ 3.18152480e+00, -2.62484651e-01, -1.30870333e-01,\n",
       "        -1.67835766e+00],\n",
       "       [ 3.81685715e+00,  2.48363332e-01, -2.58960168e-01,\n",
       "        -1.01816299e+00],\n",
       "       [-4.67994708e-01, -4.92682084e-01,  6.09900309e-01,\n",
       "         2.54611999e-01],\n",
       "       [ 1.49896170e+00, -4.29631893e-01, -5.44543230e-01,\n",
       "        -2.50326775e-01],\n",
       "       [ 1.47088772e+00, -3.28925266e-01,  3.97297753e-01,\n",
       "         1.70861993e-01],\n",
       "       [-1.01516655e+00, -7.08742781e-01, -1.01816918e-01,\n",
       "         3.68130865e-01],\n",
       "       [ 8.44165717e-01, -1.00787689e+00, -4.10556340e-01,\n",
       "         1.38432297e-01],\n",
       "       [-1.50192243e-02, -9.80609054e-01,  8.92414484e-01,\n",
       "         5.14912253e-01],\n",
       "       [ 3.96165209e+00,  8.34321401e-01, -2.71693005e-01,\n",
       "        -2.89235771e-01],\n",
       "       [-4.03885263e-01, -9.18069589e-01, -5.05679300e-01,\n",
       "         3.81122845e-01],\n",
       "       [-2.36396201e+00,  1.17169579e+00, -1.24719221e+00,\n",
       "        -2.57106303e-01],\n",
       "       [-7.16047998e-01, -7.65606639e-01, -1.25974754e-01,\n",
       "         3.57155180e-01],\n",
       "       [-1.01877707e+00, -4.24925733e-01,  5.45654355e-02,\n",
       "         2.13644520e-01],\n",
       "       [ 2.50743177e-01, -1.69421994e+00, -2.41191325e-01,\n",
       "         4.63144167e-01],\n",
       "       [-1.12948907e+00,  4.01611373e-01, -2.31994129e-01,\n",
       "         1.02647279e-01],\n",
       "       [ 1.65169993e-01, -1.01949481e+00,  2.82993465e-01,\n",
       "        -2.67592266e-02],\n",
       "       [ 2.69707911e+00,  3.58556296e-01,  1.56053404e+00,\n",
       "        -1.85221572e-01],\n",
       "       [ 2.79292646e-01, -1.31818214e+00, -3.23981905e-01,\n",
       "         4.34116891e-01],\n",
       "       [-2.75148004e+00,  1.66499146e+00, -8.48207029e-01,\n",
       "        -3.45045796e-01],\n",
       "       [-2.76243995e+00,  1.62878968e+00, -2.99329159e-01,\n",
       "        -3.09938126e-01],\n",
       "       [-1.17965396e+00, -4.88714451e-01, -5.70850862e-01,\n",
       "         3.30359207e-01],\n",
       "       [-2.43892330e+00,  1.28827830e+00, -1.22610432e+00,\n",
       "        -2.26850699e-01],\n",
       "       [ 3.39523415e+00, -8.68827192e-02, -4.76067492e-02,\n",
       "        -1.60935761e+00],\n",
       "       [-5.24475038e-01, -9.74434193e-01, -5.72726101e-01,\n",
       "         3.73473060e-01],\n",
       "       [-3.23694559e+00,  2.17841439e+00, -1.60297337e+00,\n",
       "        -3.37091133e-01],\n",
       "       [-3.18539522e+00,  2.35407259e+00, -1.07861331e+00,\n",
       "        -5.67728212e-01],\n",
       "       [ 6.90650603e-01, -1.11659501e+00,  4.96266814e-01,\n",
       "         9.03256214e-02],\n",
       "       [-1.30696482e-01, -1.36016399e+00,  1.78480939e-01,\n",
       "         4.41531079e-01],\n",
       "       [-1.55448767e-02, -1.29141297e+00, -9.01849923e-02,\n",
       "         2.41271042e-01],\n",
       "       [-1.94913029e+00,  6.06917429e-01, -7.74797992e-01,\n",
       "        -9.31820659e-02],\n",
       "       [-3.11493019e+00,  2.17074741e+00,  3.61476789e-01,\n",
       "        -4.33233399e-01],\n",
       "       [-2.04734314e+00,  1.08917664e+00,  7.17277025e-01,\n",
       "        -2.35708605e-02],\n",
       "       [ 4.29282147e-01, -1.37386581e+00,  2.66186537e-01,\n",
       "         1.77497318e-01],\n",
       "       [-2.57219502e+00,  1.49796260e+00, -9.55701246e-01,\n",
       "        -2.44930816e-01],\n",
       "       [ 8.45147825e-01, -1.26337333e+00, -2.70379863e-01,\n",
       "         1.76187034e-01],\n",
       "       [ 2.31333607e+00, -5.52303109e-01, -6.81618962e-02,\n",
       "         1.28752856e-01],\n",
       "       [ 1.67399330e+00, -8.67533462e-01, -4.41890571e-01,\n",
       "         2.56369412e-01],\n",
       "       [ 4.37790595e+00,  9.09112122e-01, -1.63313042e-01,\n",
       "        -1.56965998e+00],\n",
       "       [-3.68925556e-01, -8.12288570e-01, -7.44166771e-02,\n",
       "         1.89841708e-01],\n",
       "       [-3.04457221e-01, -9.72660968e-01,  1.72600500e-01,\n",
       "         2.19372955e-01],\n",
       "       [-8.37748859e-01, -5.28442340e-01,  2.48168057e-01,\n",
       "         2.17973508e-01],\n",
       "       [-3.38219520e-01, -1.21463908e+00, -2.84677813e-01,\n",
       "         3.95429522e-01],\n",
       "       [-1.05254165e+00,  2.69233369e+00,  1.04885218e+00,\n",
       "        -4.08086036e-01],\n",
       "       [-1.94833895e+00,  4.96371195e-01, -3.96099752e-02,\n",
       "         5.26538285e-02],\n",
       "       [ 1.06447757e+00, -9.22528162e-01, -2.06075780e-01,\n",
       "         4.70215726e-01],\n",
       "       [-7.63106127e-01, -5.76808058e-01, -3.81540517e-01,\n",
       "         3.96288107e-01],\n",
       "       [ 3.20241269e+00, -1.19279115e-02, -2.81535158e-01,\n",
       "        -1.00640868e+00],\n",
       "       [ 2.89285141e+00, -3.16990447e-01, -2.13985357e-01,\n",
       "        -1.49469659e+00],\n",
       "       [-1.28184055e+00,  8.50424961e-01,  5.14766836e-01,\n",
       "        -1.10677125e-01],\n",
       "       [-2.10464223e+00,  8.26787986e-01, -7.62353878e-01,\n",
       "        -2.01412481e-01],\n",
       "       [-3.62336465e-01, -1.16187708e+00,  2.36083836e-01,\n",
       "         4.38908041e-01],\n",
       "       [ 3.30027208e+00, -1.71369838e-01, -2.41391300e-01,\n",
       "        -1.15940528e+00],\n",
       "       [-2.00196070e+00,  7.53168142e-01,  3.73760514e-01,\n",
       "         6.06360164e-04],\n",
       "       [ 1.92999863e+00, -1.02643572e+00, -1.99775501e-01,\n",
       "        -6.08653333e-01],\n",
       "       [-8.65007535e-02, -1.03594778e+00, -5.13430302e-01,\n",
       "         3.24052296e-01],\n",
       "       [-8.58551384e-01, -5.33290940e-01, -2.42515215e-01,\n",
       "         1.81273931e-01],\n",
       "       [-2.71258535e+00,  1.61480277e+00,  4.13006322e-02,\n",
       "        -2.42720493e-01],\n",
       "       [-2.60815857e+00,  1.40687165e+00, -1.19576881e+00,\n",
       "        -2.15629036e-01],\n",
       "       [-9.32672831e-01, -4.28122673e-01, -3.02087119e-01,\n",
       "         3.65426616e-01],\n",
       "       [-3.93728680e+00,  3.03699771e+00, -1.75633450e+00,\n",
       "        -2.66012517e-01],\n",
       "       [ 1.05103008e+00, -9.90947560e-01, -1.74405995e-01,\n",
       "         5.33982081e-01],\n",
       "       [ 3.10065404e+00,  1.58567898e-01,  1.94322279e-01,\n",
       "        -7.60189223e-01],\n",
       "       [-1.26543967e+00, -2.70127741e-01, -6.56326672e-02,\n",
       "         2.76525536e-01],\n",
       "       [-8.43317538e-01, -5.63552960e-01,  7.14512819e-01,\n",
       "         3.20537514e-01],\n",
       "       [-7.99841865e-02, -9.72943663e-01,  1.01368171e+00,\n",
       "         2.67604174e-01],\n",
       "       [-1.19798975e+00,  3.65721870e-01,  6.65671842e-01,\n",
       "        -9.23855460e-02],\n",
       "       [ 4.66214804e+00,  1.40558414e+00, -7.53321105e-01,\n",
       "         3.46183644e-01],\n",
       "       [ 1.78284783e+00, -4.04330461e-01, -1.51147952e-01,\n",
       "        -5.92873751e-01],\n",
       "       [ 2.55317720e+00, -7.84234567e-01, -1.79760863e-01,\n",
       "        -9.37005343e-01],\n",
       "       [-2.94455583e-01, -1.06990218e+00,  3.82026811e-01,\n",
       "         4.07459650e-01],\n",
       "       [ 2.85922558e+00, -8.89814282e-01, -3.58615661e-01,\n",
       "        -1.54106258e+00],\n",
       "       [-5.23225161e-01, -6.37996501e-01,  2.00211076e-01,\n",
       "         1.83132573e-01],\n",
       "       [-3.57424100e-01, -2.22988049e-01,  1.16045587e+00,\n",
       "         1.76305477e-01],\n",
       "       [-1.73691803e+00,  2.85212482e-01, -8.79187798e-01,\n",
       "         4.73572805e-02],\n",
       "       [-1.66683548e+00,  2.38468556e-01, -9.66425345e-01,\n",
       "         1.07328640e-01],\n",
       "       [ 2.78198859e+00,  4.01239091e-01,  1.01805033e+00,\n",
       "        -1.56166425e-01],\n",
       "       [-1.09186855e+00, -5.42005344e-01,  1.45822765e-01,\n",
       "         3.45046392e-01],\n",
       "       [-1.63736836e+00,  2.41846951e-01, -2.06802633e-01,\n",
       "         1.46920041e-01],\n",
       "       [ 6.65496619e-01, -1.20689529e+00, -4.96704627e-01,\n",
       "         4.17613750e-01],\n",
       "       [ 6.45536091e-01, -1.49686690e+00, -2.77408990e-01,\n",
       "         3.66459330e-01],\n",
       "       [-2.43305355e+00,  1.16286280e+00, -1.14908237e+00,\n",
       "         9.55061113e-02],\n",
       "       [-2.25786536e+00,  9.35413861e-01, -7.67233930e-01,\n",
       "        -1.17441350e-01],\n",
       "       [ 4.91227645e-01, -5.20348560e-01,  9.34396274e-01,\n",
       "         2.18835824e-01],\n",
       "       [ 7.77007132e-01, -1.00173717e+00, -2.02331046e-01,\n",
       "         4.37148289e-01],\n",
       "       [ 1.26480651e+01,  8.27668274e+00, -6.19787118e-01,\n",
       "         4.39848765e+00],\n",
       "       [ 8.24035367e-02, -1.46313682e+00, -2.48426235e-01,\n",
       "         5.03743392e-01],\n",
       "       [-1.99665317e+00,  5.57492360e-01, -3.38897940e-01,\n",
       "         3.69642105e-02],\n",
       "       [-2.70892384e+00,  1.49858043e+00, -3.57331893e-01,\n",
       "        -1.57729130e-01],\n",
       "       [ 4.25837137e-01, -8.44767425e-01,  2.51420799e-01,\n",
       "         4.89782554e-01],\n",
       "       [ 2.29429420e-01, -1.17761464e+00, -1.62870250e-01,\n",
       "         4.46583208e-01],\n",
       "       [-2.94425974e+00,  2.01010343e+00, -1.14261016e+00,\n",
       "        -5.21592882e-01],\n",
       "       [ 2.63472107e+00,  9.04762983e-02, -5.31811536e-02,\n",
       "         1.25396719e+00],\n",
       "       [-2.11455962e+00,  1.04381716e+00,  5.94104821e-01,\n",
       "        -1.82703533e-01],\n",
       "       [ 3.10285368e-01, -1.18071016e+00, -3.51943021e-01,\n",
       "         4.47459007e-01],\n",
       "       [-1.11581663e+00, -2.09029932e-01, -5.56048328e-01,\n",
       "         1.61012710e-01],\n",
       "       [-5.13006354e-01, -1.22748023e+00,  4.12175150e-01,\n",
       "         5.99576321e-01],\n",
       "       [-1.27030298e+00,  8.26249586e-02,  2.78864735e+00,\n",
       "         3.46155702e-01],\n",
       "       [ 3.54242045e-01, -1.40419702e+00, -2.36723564e-01,\n",
       "         3.75930254e-01],\n",
       "       [-5.47964283e-01, -9.75674052e-01, -5.21397028e-01,\n",
       "         3.28390278e-01],\n",
       "       [-2.73032571e+00,  1.54660755e+00, -7.80421341e-01,\n",
       "        -2.25254661e-01],\n",
       "       [-1.26477478e+00, -3.55018001e-01, -2.39634014e-01,\n",
       "         2.88412970e-01],\n",
       "       [-1.33464243e+00,  4.17998055e-01, -7.60210134e-01,\n",
       "         9.85111240e-02],\n",
       "       [-1.25368246e+00, -4.01790190e-01,  5.58599207e-01,\n",
       "         3.41308509e-01],\n",
       "       [ 4.49577158e+00,  9.84054246e-01, -3.58893049e-01,\n",
       "        -8.25067231e-01],\n",
       "       [ 2.20705185e+00, -4.67990843e-01,  3.36529295e-02,\n",
       "        -9.50198353e-01],\n",
       "       [-3.06079369e+00,  2.10524192e+00, -1.32512759e+00,\n",
       "        -5.83594750e-01],\n",
       "       [-3.93180213e+00,  3.82122972e+00,  7.92893854e+00,\n",
       "        -5.40160212e-01],\n",
       "       [ 5.84610577e+00,  1.63144685e+00,  1.90195271e-01,\n",
       "        -2.76523128e+00],\n",
       "       [ 1.05142899e+00, -3.28224435e-02,  1.15163905e+00,\n",
       "         8.34006261e-02],\n",
       "       [-1.86196902e+00,  5.68078594e-01, -1.00254523e-01,\n",
       "        -1.42317407e-02],\n",
       "       [ 3.01549732e-01, -8.76963633e-01, -2.14970404e-01,\n",
       "         2.96706760e-01],\n",
       "       [-4.89240137e-01, -9.14502654e-01, -1.84278666e-02,\n",
       "         3.43626718e-01],\n",
       "       [-1.81888443e-01, -1.16130249e+00,  7.62411845e-02,\n",
       "         2.73476810e-01],\n",
       "       [-9.29805425e-01, -5.96353563e-01, -3.54625852e-01,\n",
       "         2.85229171e-01],\n",
       "       [ 8.53679884e-01, -1.28674301e+00, -1.73355255e-01,\n",
       "         2.38283332e-01],\n",
       "       [ 1.75885475e+00, -1.09199436e+00, -2.14655943e-01,\n",
       "        -3.71418471e-01],\n",
       "       [ 5.12946057e+00,  1.42744763e+00,  1.01013597e+00,\n",
       "        -6.39327701e-01],\n",
       "       [ 2.82365196e-01, -1.24117632e+00, -9.06816163e-02,\n",
       "         3.50621864e-01],\n",
       "       [ 1.40944928e-01, -7.97394973e-01,  8.18184300e-01,\n",
       "         2.22056434e-01],\n",
       "       [-1.74803919e+00,  2.62547773e-01, -8.13252587e-01,\n",
       "         2.27741267e-02],\n",
       "       [-8.49394828e-01, -4.89394070e-01, -5.49048433e-01,\n",
       "         1.28680730e-01],\n",
       "       [ 9.11282182e-01,  2.52263683e-02,  1.25689916e+00,\n",
       "        -1.65437895e-01],\n",
       "       [-1.86207647e+00,  4.97110432e-01, -9.30076017e-01,\n",
       "        -6.78175737e-02],\n",
       "       [ 1.84696646e-01, -1.42895336e+00,  1.27207478e-01,\n",
       "         4.09377980e-01],\n",
       "       [ 6.67587145e-01, -7.63248241e-01, -8.63939857e-01,\n",
       "         6.75937940e-01],\n",
       "       [-3.22370601e+00,  2.31724049e+00, -1.09185949e-01,\n",
       "        -4.15019190e-01],\n",
       "       [ 6.59040654e+00,  2.95091857e+00, -3.20266712e-01,\n",
       "         3.48542297e+00],\n",
       "       [ 1.40976698e+00, -7.87474591e-01, -3.45883427e-01,\n",
       "         3.84235570e-01],\n",
       "       [ 2.04098226e+00, -7.27046919e-01, -3.96487279e-01,\n",
       "         7.56851595e-02],\n",
       "       [-1.51784027e+00,  1.90294469e-02, -3.57048722e-01,\n",
       "         2.01589993e-01],\n",
       "       [-1.17790684e+00,  3.55393955e-01, -5.22091645e-01,\n",
       "         4.05966530e-02],\n",
       "       [ 1.75540302e+00, -1.02421806e+00,  7.38417788e-02,\n",
       "         1.06932749e-01],\n",
       "       [ 2.24318510e+00, -1.01272415e+00, -1.85366575e-01,\n",
       "        -7.08406663e-01],\n",
       "       [-5.46845044e-01, -9.46267367e-01,  1.58702414e+00,\n",
       "         4.27931917e-01],\n",
       "       [-2.26517316e-01, -9.82627102e-01, -1.67814327e-01,\n",
       "         4.02362322e-01],\n",
       "       [-2.01691709e+00,  8.49868987e-01,  6.99050999e-01,\n",
       "        -1.31482683e-01],\n",
       "       [-1.98348544e-01, -5.65520252e-01,  3.39126570e-02,\n",
       "         2.05274478e-01],\n",
       "       [ 3.80717043e+00,  3.70610765e-01, -2.36551722e-01,\n",
       "        -1.18406523e+00],\n",
       "       [ 6.26595369e+00,  1.83761560e+00, -4.37099545e-01,\n",
       "        -1.68727788e+00],\n",
       "       [-1.37674869e+00, -1.62309753e-01,  2.86193936e-01,\n",
       "         1.92972529e-01],\n",
       "       [-2.27729323e+00,  1.00886165e+00, -4.05609099e-01,\n",
       "        -1.32369621e-01],\n",
       "       [ 1.73177556e-01, -1.39566409e+00, -1.14718018e-02,\n",
       "         5.36541326e-01],\n",
       "       [-2.00766911e+00,  1.08624870e+00,  1.38595760e+00,\n",
       "        -3.76167808e-01],\n",
       "       [-2.24346220e+00,  9.06539870e-01, -1.19199425e+00,\n",
       "        -9.66798404e-02],\n",
       "       [-8.58313068e-01, -5.40460446e-01, -3.82256854e-01,\n",
       "         2.08368976e-01],\n",
       "       [-6.30371370e-02, -1.27891493e+00, -8.84066638e-02,\n",
       "         4.09522092e-01],\n",
       "       [ 3.27281019e-01, -1.06698881e+00,  2.60124606e-01,\n",
       "         6.58484931e-02],\n",
       "       [-8.95220356e-01, -1.88336411e-01, -6.23819283e-01,\n",
       "         2.36416024e-01],\n",
       "       [-2.62095486e+00,  1.46319152e+00, -4.15173064e-01,\n",
       "        -2.62781867e-01],\n",
       "       [-3.73434523e-01, -1.15473080e+00,  6.72758509e-01,\n",
       "         5.48050003e-01],\n",
       "       [ 2.69012513e+00,  5.37469208e-01,  9.21753803e-01,\n",
       "         3.95069328e-01],\n",
       "       [ 2.60556271e+00, -3.82105821e-01, -1.53314204e-01,\n",
       "        -1.05993989e+00],\n",
       "       [ 3.78261235e+00,  1.02159350e-01, -3.00494418e-01,\n",
       "        -3.26326383e+00],\n",
       "       [ 4.54813608e-01, -1.09888913e+00,  4.58285551e-02,\n",
       "         3.76441042e-02],\n",
       "       [-1.03192166e+00, -5.61377580e-01,  7.63442136e-01,\n",
       "         3.81827627e-01],\n",
       "       [-1.17520983e+00, -2.75652449e-01, -6.67130637e-01,\n",
       "         2.79628227e-01],\n",
       "       [-3.14227675e-01, -1.62661527e-02,  3.68027298e+00,\n",
       "         1.18345956e-02],\n",
       "       [-5.94449148e-01, -1.07633467e+00,  5.28874919e-01,\n",
       "         5.08854092e-01],\n",
       "       [-1.80237235e+00,  5.88729402e-01,  1.18085099e+00,\n",
       "        -2.02409668e-02],\n",
       "       [-2.64450479e+00,  1.57195347e+00, -1.74684997e-01,\n",
       "        -1.78964689e-01]])"
      ]
     },
     "execution_count": 31,
     "metadata": {},
     "output_type": "execute_result"
    }
   ],
   "source": [
    "pca.transform(df_std)"
   ]
  },
  {
   "cell_type": "code",
   "execution_count": 32,
   "metadata": {},
   "outputs": [],
   "source": [
    "pca_scores = pca.transform(df_std)"
   ]
  },
  {
   "cell_type": "markdown",
   "metadata": {},
   "source": [
    "# K-Means Clustering using PCA"
   ]
  },
  {
   "cell_type": "code",
   "execution_count": 36,
   "metadata": {},
   "outputs": [
    {
     "data": {
      "image/png": "[encoded data removed]",
      "text/plain": [
       "<Figure size 720x576 with 1 Axes>"
      ]
     },
     "metadata": {
      "needs_background": "light"
     },
     "output_type": "display_data"
    }
   ],
   "source": [
    "wcss = []\n",
    "for i in range(1,11):\n",
    "    km = KMeans(n_clusters = i,\n",
    "               init = 'k-means++',\n",
    "               random_state = 10)\n",
    "    km.fit(pca_scores)\n",
    "    labels = km.labels_\n",
    "    wcss.append(km.inertia_)\n",
    "    \n",
    "plt.figure(figsize = (10,8))\n",
    "plt.plot(range(1,11), wcss, marker = 'o', linestyle = '--')\n",
    "plt.title('K-Means Clustering with PCA')\n",
    "plt.xlabel('Number of clusters')\n",
    "plt.ylabel('WCSS')\n",
    "plt.show()"
   ]
  },
  {
   "cell_type": "markdown",
   "metadata": {},
   "source": [
    "According to the elbow method, an appropriate choice would be 4 clusters."
   ]
  },
  {
   "cell_type": "code",
   "execution_count": 37,
   "metadata": {},
   "outputs": [],
   "source": [
    "kmeans_pca = KMeans(n_clusters = 4, init = 'k-means++', random_state = 10)"
   ]
  },
  {
   "cell_type": "code",
   "execution_count": 38,
   "metadata": {},
   "outputs": [
    {
     "data": {
      "text/plain": [
       "KMeans(n_clusters=4, random_state=10)"
      ]
     },
     "execution_count": 38,
     "metadata": {},
     "output_type": "execute_result"
    }
   ],
   "source": [
    "kmeans_pca.fit(pca_scores)"
   ]
  },
  {
   "cell_type": "code",
   "execution_count": 41,
   "metadata": {},
   "outputs": [],
   "source": [
    "df_kmeans_pca = pd.concat([df_edited, pd.DataFrame(pca_scores)], axis = 1)\n",
    "df_kmeans_pca.columns.values[-4:] = ['PC1', 'PC2', 'PC3', 'PC4']\n",
    "df_kmeans_pca['Segment K-Means PCA'] = kmeans_pca.labels_"
   ]
  },
  {
   "cell_type": "code",
   "execution_count": 42,
   "metadata": {},
   "outputs": [
    {
     "data": {
      "text/html": [
       "<div>\n",
       "<style scoped>\n",
       "    .dataframe tbody tr th:only-of-type {\n",
       "        vertical-align: middle;\n",
       "    }\n",
       "\n",
       "    .dataframe tbody tr th {\n",
       "        vertical-align: top;\n",
       "    }\n",
       "\n",
       "    .dataframe thead th {\n",
       "        text-align: right;\n",
       "    }\n",
       "</style>\n",
       "<table border=\"1\" class=\"dataframe\">\n",
       "  <thead>\n",
       "    <tr style=\"text-align: right;\">\n",
       "      <th></th>\n",
       "      <th>country</th>\n",
       "      <th>child_mort</th>\n",
       "      <th>exports</th>\n",
       "      <th>health</th>\n",
       "      <th>imports</th>\n",
       "      <th>income</th>\n",
       "      <th>inflation</th>\n",
       "      <th>life_expec</th>\n",
       "      <th>total_fer</th>\n",
       "      <th>gdpp</th>\n",
       "      <th>PC1</th>\n",
       "      <th>PC2</th>\n",
       "      <th>PC3</th>\n",
       "      <th>PC4</th>\n",
       "      <th>Segment K-Means PCA</th>\n",
       "    </tr>\n",
       "  </thead>\n",
       "  <tbody>\n",
       "    <tr>\n",
       "      <th>0</th>\n",
       "      <td>Afghanistan</td>\n",
       "      <td>90.2</td>\n",
       "      <td>55.30</td>\n",
       "      <td>41.9174</td>\n",
       "      <td>248.297</td>\n",
       "      <td>1610</td>\n",
       "      <td>9.44</td>\n",
       "      <td>56.2</td>\n",
       "      <td>5.82</td>\n",
       "      <td>553</td>\n",
       "      <td>-2.635575</td>\n",
       "      <td>1.472267</td>\n",
       "      <td>-0.549489</td>\n",
       "      <td>-0.242326</td>\n",
       "      <td>1</td>\n",
       "    </tr>\n",
       "    <tr>\n",
       "      <th>1</th>\n",
       "      <td>Albania</td>\n",
       "      <td>16.6</td>\n",
       "      <td>1145.20</td>\n",
       "      <td>267.8950</td>\n",
       "      <td>1987.740</td>\n",
       "      <td>9930</td>\n",
       "      <td>4.49</td>\n",
       "      <td>76.3</td>\n",
       "      <td>1.65</td>\n",
       "      <td>4090</td>\n",
       "      <td>-0.024206</td>\n",
       "      <td>-1.429892</td>\n",
       "      <td>-0.014123</td>\n",
       "      <td>0.450645</td>\n",
       "      <td>0</td>\n",
       "    </tr>\n",
       "    <tr>\n",
       "      <th>2</th>\n",
       "      <td>Algeria</td>\n",
       "      <td>27.3</td>\n",
       "      <td>1712.64</td>\n",
       "      <td>185.9820</td>\n",
       "      <td>1400.440</td>\n",
       "      <td>12900</td>\n",
       "      <td>16.10</td>\n",
       "      <td>76.5</td>\n",
       "      <td>2.89</td>\n",
       "      <td>4460</td>\n",
       "      <td>-0.459557</td>\n",
       "      <td>-0.675495</td>\n",
       "      <td>0.959355</td>\n",
       "      <td>0.218456</td>\n",
       "      <td>0</td>\n",
       "    </tr>\n",
       "    <tr>\n",
       "      <th>3</th>\n",
       "      <td>Angola</td>\n",
       "      <td>119.0</td>\n",
       "      <td>2199.19</td>\n",
       "      <td>100.6050</td>\n",
       "      <td>1514.370</td>\n",
       "      <td>5900</td>\n",
       "      <td>22.40</td>\n",
       "      <td>60.1</td>\n",
       "      <td>6.16</td>\n",
       "      <td>3530</td>\n",
       "      <td>-2.722630</td>\n",
       "      <td>2.172332</td>\n",
       "      <td>0.600215</td>\n",
       "      <td>-0.433978</td>\n",
       "      <td>1</td>\n",
       "    </tr>\n",
       "    <tr>\n",
       "      <th>4</th>\n",
       "      <td>Antigua and Barbuda</td>\n",
       "      <td>10.3</td>\n",
       "      <td>5551.00</td>\n",
       "      <td>735.6600</td>\n",
       "      <td>7185.800</td>\n",
       "      <td>19100</td>\n",
       "      <td>1.44</td>\n",
       "      <td>76.8</td>\n",
       "      <td>2.13</td>\n",
       "      <td>12200</td>\n",
       "      <td>0.648597</td>\n",
       "      <td>-1.023437</td>\n",
       "      <td>-0.257430</td>\n",
       "      <td>0.289201</td>\n",
       "      <td>0</td>\n",
       "    </tr>\n",
       "    <tr>\n",
       "      <th>...</th>\n",
       "      <td>...</td>\n",
       "      <td>...</td>\n",
       "      <td>...</td>\n",
       "      <td>...</td>\n",
       "      <td>...</td>\n",
       "      <td>...</td>\n",
       "      <td>...</td>\n",
       "      <td>...</td>\n",
       "      <td>...</td>\n",
       "      <td>...</td>\n",
       "      <td>...</td>\n",
       "      <td>...</td>\n",
       "      <td>...</td>\n",
       "      <td>...</td>\n",
       "      <td>...</td>\n",
       "    </tr>\n",
       "    <tr>\n",
       "      <th>162</th>\n",
       "      <td>Vanuatu</td>\n",
       "      <td>29.2</td>\n",
       "      <td>1384.02</td>\n",
       "      <td>155.9250</td>\n",
       "      <td>1565.190</td>\n",
       "      <td>2950</td>\n",
       "      <td>2.62</td>\n",
       "      <td>63.0</td>\n",
       "      <td>3.50</td>\n",
       "      <td>2970</td>\n",
       "      <td>-1.175210</td>\n",
       "      <td>-0.275652</td>\n",
       "      <td>-0.667131</td>\n",
       "      <td>0.279628</td>\n",
       "      <td>0</td>\n",
       "    </tr>\n",
       "    <tr>\n",
       "      <th>163</th>\n",
       "      <td>Venezuela</td>\n",
       "      <td>17.1</td>\n",
       "      <td>3847.50</td>\n",
       "      <td>662.8500</td>\n",
       "      <td>2376.000</td>\n",
       "      <td>16500</td>\n",
       "      <td>45.90</td>\n",
       "      <td>75.4</td>\n",
       "      <td>2.47</td>\n",
       "      <td>13500</td>\n",
       "      <td>-0.314228</td>\n",
       "      <td>-0.016266</td>\n",
       "      <td>3.680273</td>\n",
       "      <td>0.011835</td>\n",
       "      <td>0</td>\n",
       "    </tr>\n",
       "    <tr>\n",
       "      <th>164</th>\n",
       "      <td>Vietnam</td>\n",
       "      <td>23.3</td>\n",
       "      <td>943.20</td>\n",
       "      <td>89.6040</td>\n",
       "      <td>1050.620</td>\n",
       "      <td>4490</td>\n",
       "      <td>12.10</td>\n",
       "      <td>73.1</td>\n",
       "      <td>1.95</td>\n",
       "      <td>1310</td>\n",
       "      <td>-0.594449</td>\n",
       "      <td>-1.076335</td>\n",
       "      <td>0.528875</td>\n",
       "      <td>0.508854</td>\n",
       "      <td>0</td>\n",
       "    </tr>\n",
       "    <tr>\n",
       "      <th>165</th>\n",
       "      <td>Yemen</td>\n",
       "      <td>56.3</td>\n",
       "      <td>393.00</td>\n",
       "      <td>67.8580</td>\n",
       "      <td>450.640</td>\n",
       "      <td>4480</td>\n",
       "      <td>23.60</td>\n",
       "      <td>67.5</td>\n",
       "      <td>4.67</td>\n",
       "      <td>1310</td>\n",
       "      <td>-1.802372</td>\n",
       "      <td>0.588729</td>\n",
       "      <td>1.180851</td>\n",
       "      <td>-0.020241</td>\n",
       "      <td>1</td>\n",
       "    </tr>\n",
       "    <tr>\n",
       "      <th>166</th>\n",
       "      <td>Zambia</td>\n",
       "      <td>83.1</td>\n",
       "      <td>540.20</td>\n",
       "      <td>85.9940</td>\n",
       "      <td>451.140</td>\n",
       "      <td>3280</td>\n",
       "      <td>14.00</td>\n",
       "      <td>52.0</td>\n",
       "      <td>5.40</td>\n",
       "      <td>1460</td>\n",
       "      <td>-2.644505</td>\n",
       "      <td>1.571953</td>\n",
       "      <td>-0.174685</td>\n",
       "      <td>-0.178965</td>\n",
       "      <td>1</td>\n",
       "    </tr>\n",
       "  </tbody>\n",
       "</table>\n",
       "<p>167 rows × 15 columns</p>\n",
       "</div>"
      ],
      "text/plain": [
       "                 country  child_mort  exports    health   imports  income  \\\n",
       "0            Afghanistan        90.2    55.30   41.9174   248.297    1610   \n",
       "1                Albania        16.6  1145.20  267.8950  1987.740    9930   \n",
       "2                Algeria        27.3  1712.64  185.9820  1400.440   12900   \n",
       "3                 Angola       119.0  2199.19  100.6050  1514.370    5900   \n",
       "4    Antigua and Barbuda        10.3  5551.00  735.6600  7185.800   19100   \n",
       "..                   ...         ...      ...       ...       ...     ...   \n",
       "162              Vanuatu        29.2  1384.02  155.9250  1565.190    2950   \n",
       "163            Venezuela        17.1  3847.50  662.8500  2376.000   16500   \n",
       "164              Vietnam        23.3   943.20   89.6040  1050.620    4490   \n",
       "165                Yemen        56.3   393.00   67.8580   450.640    4480   \n",
       "166               Zambia        83.1   540.20   85.9940   451.140    3280   \n",
       "\n",
       "     inflation  life_expec  total_fer   gdpp       PC1       PC2       PC3  \\\n",
       "0         9.44        56.2       5.82    553 -2.635575  1.472267 -0.549489   \n",
       "1         4.49        76.3       1.65   4090 -0.024206 -1.429892 -0.014123   \n",
       "2        16.10        76.5       2.89   4460 -0.459557 -0.675495  0.959355   \n",
       "3        22.40        60.1       6.16   3530 -2.722630  2.172332  0.600215   \n",
       "4         1.44        76.8       2.13  12200  0.648597 -1.023437 -0.257430   \n",
       "..         ...         ...        ...    ...       ...       ...       ...   \n",
       "162       2.62        63.0       3.50   2970 -1.175210 -0.275652 -0.667131   \n",
       "163      45.90        75.4       2.47  13500 -0.314228 -0.016266  3.680273   \n",
       "164      12.10        73.1       1.95   1310 -0.594449 -1.076335  0.528875   \n",
       "165      23.60        67.5       4.67   1310 -1.802372  0.588729  1.180851   \n",
       "166      14.00        52.0       5.40   1460 -2.644505  1.571953 -0.174685   \n",
       "\n",
       "          PC4  Segment K-Means PCA  \n",
       "0   -0.242326                    1  \n",
       "1    0.450645                    0  \n",
       "2    0.218456                    0  \n",
       "3   -0.433978                    1  \n",
       "4    0.289201                    0  \n",
       "..        ...                  ...  \n",
       "162  0.279628                    0  \n",
       "163  0.011835                    0  \n",
       "164  0.508854                    0  \n",
       "165 -0.020241                    1  \n",
       "166 -0.178965                    1  \n",
       "\n",
       "[167 rows x 15 columns]"
      ]
     },
     "execution_count": 42,
     "metadata": {},
     "output_type": "execute_result"
    }
   ],
   "source": [
    "df_kmeans_pca"
   ]
  },
  {
   "cell_type": "code",
   "execution_count": 67,
   "metadata": {},
   "outputs": [
    {
     "data": {
      "text/html": [
       "<div>\n",
       "<style scoped>\n",
       "    .dataframe tbody tr th:only-of-type {\n",
       "        vertical-align: middle;\n",
       "    }\n",
       "\n",
       "    .dataframe tbody tr th {\n",
       "        vertical-align: top;\n",
       "    }\n",
       "\n",
       "    .dataframe thead th {\n",
       "        text-align: right;\n",
       "    }\n",
       "</style>\n",
       "<table border=\"1\" class=\"dataframe\">\n",
       "  <thead>\n",
       "    <tr style=\"text-align: right;\">\n",
       "      <th></th>\n",
       "      <th>child_mort</th>\n",
       "      <th>exports</th>\n",
       "      <th>health</th>\n",
       "      <th>imports</th>\n",
       "      <th>income</th>\n",
       "      <th>inflation</th>\n",
       "      <th>life_expec</th>\n",
       "      <th>total_fer</th>\n",
       "      <th>gdpp</th>\n",
       "      <th>PC1</th>\n",
       "      <th>PC2</th>\n",
       "      <th>PC3</th>\n",
       "      <th>PC4</th>\n",
       "    </tr>\n",
       "    <tr>\n",
       "      <th>Segment K-Means PCA</th>\n",
       "      <th></th>\n",
       "      <th></th>\n",
       "      <th></th>\n",
       "      <th></th>\n",
       "      <th></th>\n",
       "      <th></th>\n",
       "      <th></th>\n",
       "      <th></th>\n",
       "      <th></th>\n",
       "      <th></th>\n",
       "      <th></th>\n",
       "      <th></th>\n",
       "      <th></th>\n",
       "    </tr>\n",
       "  </thead>\n",
       "  <tbody>\n",
       "    <tr>\n",
       "      <th>0</th>\n",
       "      <td>20.918182</td>\n",
       "      <td>3366.778392</td>\n",
       "      <td>482.897845</td>\n",
       "      <td>3461.435467</td>\n",
       "      <td>13455.568182</td>\n",
       "      <td>7.295045</td>\n",
       "      <td>73.222727</td>\n",
       "      <td>2.242159</td>\n",
       "      <td>7332.636364</td>\n",
       "      <td>-0.073657</td>\n",
       "      <td>-0.846914</td>\n",
       "      <td>0.131840</td>\n",
       "      <td>0.292368</td>\n",
       "    </tr>\n",
       "    <tr>\n",
       "      <th>1</th>\n",
       "      <td>91.610417</td>\n",
       "      <td>879.063521</td>\n",
       "      <td>114.821765</td>\n",
       "      <td>827.028771</td>\n",
       "      <td>3897.354167</td>\n",
       "      <td>11.911146</td>\n",
       "      <td>59.239583</td>\n",
       "      <td>4.992083</td>\n",
       "      <td>1909.208333</td>\n",
       "      <td>-2.277385</td>\n",
       "      <td>1.231258</td>\n",
       "      <td>-0.211436</td>\n",
       "      <td>-0.169223</td>\n",
       "    </tr>\n",
       "    <tr>\n",
       "      <th>2</th>\n",
       "      <td>5.082759</td>\n",
       "      <td>21511.096552</td>\n",
       "      <td>4084.970000</td>\n",
       "      <td>18129.900000</td>\n",
       "      <td>45800.000000</td>\n",
       "      <td>2.837690</td>\n",
       "      <td>80.403448</td>\n",
       "      <td>1.813793</td>\n",
       "      <td>44017.241379</td>\n",
       "      <td>3.329582</td>\n",
       "      <td>0.144841</td>\n",
       "      <td>-0.017686</td>\n",
       "      <td>-0.878951</td>\n",
       "    </tr>\n",
       "    <tr>\n",
       "      <th>3</th>\n",
       "      <td>2.800000</td>\n",
       "      <td>138475.000000</td>\n",
       "      <td>5001.930000</td>\n",
       "      <td>115092.000000</td>\n",
       "      <td>81900.000000</td>\n",
       "      <td>1.787000</td>\n",
       "      <td>82.000000</td>\n",
       "      <td>1.390000</td>\n",
       "      <td>75800.000000</td>\n",
       "      <td>9.619236</td>\n",
       "      <td>5.613801</td>\n",
       "      <td>-0.470027</td>\n",
       "      <td>3.941955</td>\n",
       "    </tr>\n",
       "  </tbody>\n",
       "</table>\n",
       "</div>"
      ],
      "text/plain": [
       "                     child_mort        exports       health        imports  \\\n",
       "Segment K-Means PCA                                                          \n",
       "0                     20.918182    3366.778392   482.897845    3461.435467   \n",
       "1                     91.610417     879.063521   114.821765     827.028771   \n",
       "2                      5.082759   21511.096552  4084.970000   18129.900000   \n",
       "3                      2.800000  138475.000000  5001.930000  115092.000000   \n",
       "\n",
       "                           income  inflation  life_expec  total_fer  \\\n",
       "Segment K-Means PCA                                                   \n",
       "0                    13455.568182   7.295045   73.222727   2.242159   \n",
       "1                     3897.354167  11.911146   59.239583   4.992083   \n",
       "2                    45800.000000   2.837690   80.403448   1.813793   \n",
       "3                    81900.000000   1.787000   82.000000   1.390000   \n",
       "\n",
       "                             gdpp       PC1       PC2       PC3       PC4  \n",
       "Segment K-Means PCA                                                        \n",
       "0                     7332.636364 -0.073657 -0.846914  0.131840  0.292368  \n",
       "1                     1909.208333 -2.277385  1.231258 -0.211436 -0.169223  \n",
       "2                    44017.241379  3.329582  0.144841 -0.017686 -0.878951  \n",
       "3                    75800.000000  9.619236  5.613801 -0.470027  3.941955  "
      ]
     },
     "execution_count": 67,
     "metadata": {},
     "output_type": "execute_result"
    }
   ],
   "source": [
    "df_kmeans_pca_mean = df_kmeans_pca.groupby('Segment K-Means PCA').mean()\n",
    "df_kmeans_pca_mean"
   ]
  },
  {
   "cell_type": "code",
   "execution_count": 68,
   "metadata": {
    "scrolled": true
   },
   "outputs": [
    {
     "data": {
      "text/html": [
       "<div>\n",
       "<style scoped>\n",
       "    .dataframe tbody tr th:only-of-type {\n",
       "        vertical-align: middle;\n",
       "    }\n",
       "\n",
       "    .dataframe tbody tr th {\n",
       "        vertical-align: top;\n",
       "    }\n",
       "\n",
       "    .dataframe thead th {\n",
       "        text-align: right;\n",
       "    }\n",
       "</style>\n",
       "<table border=\"1\" class=\"dataframe\">\n",
       "  <thead>\n",
       "    <tr style=\"text-align: right;\">\n",
       "      <th></th>\n",
       "      <th>child_mort</th>\n",
       "      <th>exports</th>\n",
       "      <th>health</th>\n",
       "      <th>imports</th>\n",
       "      <th>income</th>\n",
       "      <th>inflation</th>\n",
       "      <th>life_expec</th>\n",
       "      <th>total_fer</th>\n",
       "      <th>gdpp</th>\n",
       "      <th>PC1</th>\n",
       "      <th>PC2</th>\n",
       "      <th>PC3</th>\n",
       "      <th>PC4</th>\n",
       "    </tr>\n",
       "    <tr>\n",
       "      <th>Segment K-Means PCA</th>\n",
       "      <th></th>\n",
       "      <th></th>\n",
       "      <th></th>\n",
       "      <th></th>\n",
       "      <th></th>\n",
       "      <th></th>\n",
       "      <th></th>\n",
       "      <th></th>\n",
       "      <th></th>\n",
       "      <th></th>\n",
       "      <th></th>\n",
       "      <th></th>\n",
       "      <th></th>\n",
       "    </tr>\n",
       "  </thead>\n",
       "  <tbody>\n",
       "    <tr>\n",
       "      <th>underdeveloped</th>\n",
       "      <td>20.918182</td>\n",
       "      <td>3366.778392</td>\n",
       "      <td>482.897845</td>\n",
       "      <td>3461.435467</td>\n",
       "      <td>13455.568182</td>\n",
       "      <td>7.295045</td>\n",
       "      <td>73.222727</td>\n",
       "      <td>2.242159</td>\n",
       "      <td>7332.636364</td>\n",
       "      <td>-0.073657</td>\n",
       "      <td>-0.846914</td>\n",
       "      <td>0.131840</td>\n",
       "      <td>0.292368</td>\n",
       "    </tr>\n",
       "    <tr>\n",
       "      <th>poorest</th>\n",
       "      <td>91.610417</td>\n",
       "      <td>879.063521</td>\n",
       "      <td>114.821765</td>\n",
       "      <td>827.028771</td>\n",
       "      <td>3897.354167</td>\n",
       "      <td>11.911146</td>\n",
       "      <td>59.239583</td>\n",
       "      <td>4.992083</td>\n",
       "      <td>1909.208333</td>\n",
       "      <td>-2.277385</td>\n",
       "      <td>1.231258</td>\n",
       "      <td>-0.211436</td>\n",
       "      <td>-0.169223</td>\n",
       "    </tr>\n",
       "    <tr>\n",
       "      <th>developed</th>\n",
       "      <td>5.082759</td>\n",
       "      <td>21511.096552</td>\n",
       "      <td>4084.970000</td>\n",
       "      <td>18129.900000</td>\n",
       "      <td>45800.000000</td>\n",
       "      <td>2.837690</td>\n",
       "      <td>80.403448</td>\n",
       "      <td>1.813793</td>\n",
       "      <td>44017.241379</td>\n",
       "      <td>3.329582</td>\n",
       "      <td>0.144841</td>\n",
       "      <td>-0.017686</td>\n",
       "      <td>-0.878951</td>\n",
       "    </tr>\n",
       "    <tr>\n",
       "      <th>well-off</th>\n",
       "      <td>2.800000</td>\n",
       "      <td>138475.000000</td>\n",
       "      <td>5001.930000</td>\n",
       "      <td>115092.000000</td>\n",
       "      <td>81900.000000</td>\n",
       "      <td>1.787000</td>\n",
       "      <td>82.000000</td>\n",
       "      <td>1.390000</td>\n",
       "      <td>75800.000000</td>\n",
       "      <td>9.619236</td>\n",
       "      <td>5.613801</td>\n",
       "      <td>-0.470027</td>\n",
       "      <td>3.941955</td>\n",
       "    </tr>\n",
       "  </tbody>\n",
       "</table>\n",
       "</div>"
      ],
      "text/plain": [
       "                     child_mort        exports       health        imports  \\\n",
       "Segment K-Means PCA                                                          \n",
       "underdeveloped        20.918182    3366.778392   482.897845    3461.435467   \n",
       "poorest               91.610417     879.063521   114.821765     827.028771   \n",
       "developed              5.082759   21511.096552  4084.970000   18129.900000   \n",
       "well-off               2.800000  138475.000000  5001.930000  115092.000000   \n",
       "\n",
       "                           income  inflation  life_expec  total_fer  \\\n",
       "Segment K-Means PCA                                                   \n",
       "underdeveloped       13455.568182   7.295045   73.222727   2.242159   \n",
       "poorest               3897.354167  11.911146   59.239583   4.992083   \n",
       "developed            45800.000000   2.837690   80.403448   1.813793   \n",
       "well-off             81900.000000   1.787000   82.000000   1.390000   \n",
       "\n",
       "                             gdpp       PC1       PC2       PC3       PC4  \n",
       "Segment K-Means PCA                                                        \n",
       "underdeveloped        7332.636364 -0.073657 -0.846914  0.131840  0.292368  \n",
       "poorest               1909.208333 -2.277385  1.231258 -0.211436 -0.169223  \n",
       "developed            44017.241379  3.329582  0.144841 -0.017686 -0.878951  \n",
       "well-off             75800.000000  9.619236  5.613801 -0.470027  3.941955  "
      ]
     },
     "execution_count": 68,
     "metadata": {},
     "output_type": "execute_result"
    }
   ],
   "source": [
    "df_kmeans_pca_mean = df_kmeans_pca_mean.rename(index = {0:'underdeveloped',\n",
    "                                                        1:'poorest', \n",
    "                                                        2:'developed',\n",
    "                                                        3:'well-off'})\n",
    "df_kmeans_pca_mean"
   ]
  },
  {
   "cell_type": "markdown",
   "metadata": {},
   "source": [
    "The mean values of the segments shows a clear picture. The poorest countries have the highest child mortality rate  by far with 92 deaths of children under 5 per 1000 births. They also have the lowest life expectancy and the highest fertility rate. Those results are tied to the economic circumstances. Income and GDP are quite low which have a lower spending on health as a consequence."
   ]
  },
  {
   "cell_type": "code",
   "execution_count": 86,
   "metadata": {
    "scrolled": true
   },
   "outputs": [
    {
     "data": {
      "text/plain": [
       "['Albania',\n",
       " 'Algeria',\n",
       " 'Antigua and Barbuda',\n",
       " 'Argentina',\n",
       " 'Armenia',\n",
       " 'Azerbaijan',\n",
       " 'Bahamas',\n",
       " 'Bahrain',\n",
       " 'Bangladesh',\n",
       " 'Barbados',\n",
       " 'Belarus',\n",
       " 'Belize',\n",
       " 'Bhutan',\n",
       " 'Bolivia',\n",
       " 'Bosnia and Herzegovina',\n",
       " 'Brazil',\n",
       " 'Bulgaria',\n",
       " 'Cambodia',\n",
       " 'Cape Verde',\n",
       " 'Chile',\n",
       " 'China',\n",
       " 'Colombia',\n",
       " 'Costa Rica',\n",
       " 'Croatia',\n",
       " 'Czech Republic',\n",
       " 'Dominican Republic',\n",
       " 'Ecuador',\n",
       " 'Egypt',\n",
       " 'El Salvador',\n",
       " 'Estonia',\n",
       " 'Fiji',\n",
       " 'Georgia',\n",
       " 'Grenada',\n",
       " 'Guatemala',\n",
       " 'Guyana',\n",
       " 'Hungary',\n",
       " 'India',\n",
       " 'Indonesia',\n",
       " 'Iran',\n",
       " 'Jamaica',\n",
       " 'Jordan',\n",
       " 'Kazakhstan',\n",
       " 'Kyrgyz Republic',\n",
       " 'Latvia',\n",
       " 'Lebanon',\n",
       " 'Libya',\n",
       " 'Lithuania',\n",
       " 'Macedonia, FYR',\n",
       " 'Malaysia',\n",
       " 'Maldives',\n",
       " 'Mauritius',\n",
       " 'Micronesia, Fed. Sts.',\n",
       " 'Moldova',\n",
       " 'Mongolia',\n",
       " 'Montenegro',\n",
       " 'Morocco',\n",
       " 'Myanmar',\n",
       " 'Nepal',\n",
       " 'Oman',\n",
       " 'Panama',\n",
       " 'Paraguay',\n",
       " 'Peru',\n",
       " 'Philippines',\n",
       " 'Poland',\n",
       " 'Portugal',\n",
       " 'Romania',\n",
       " 'Russia',\n",
       " 'Samoa',\n",
       " 'Saudi Arabia',\n",
       " 'Serbia',\n",
       " 'Seychelles',\n",
       " 'Slovak Republic',\n",
       " 'South Korea',\n",
       " 'Sri Lanka',\n",
       " 'St. Vincent and the Grenadines',\n",
       " 'Suriname',\n",
       " 'Tajikistan',\n",
       " 'Thailand',\n",
       " 'Tonga',\n",
       " 'Tunisia',\n",
       " 'Turkey',\n",
       " 'Turkmenistan',\n",
       " 'Ukraine',\n",
       " 'Uruguay',\n",
       " 'Uzbekistan',\n",
       " 'Vanuatu',\n",
       " 'Venezuela',\n",
       " 'Vietnam']"
      ]
     },
     "execution_count": 86,
     "metadata": {},
     "output_type": "execute_result"
    }
   ],
   "source": [
    "seg_0 = []\n",
    "for i in range(len(df_kmeans_pca)):\n",
    "    if df_kmeans_pca['Segment K-Means PCA'][i] == 0:\n",
    "        seg_0.append(df_kmeans_pca['country'][i])\n",
    "seg_0"
   ]
  },
  {
   "cell_type": "code",
   "execution_count": 85,
   "metadata": {
    "scrolled": true
   },
   "outputs": [
    {
     "data": {
      "text/plain": [
       "['Afghanistan',\n",
       " 'Angola',\n",
       " 'Benin',\n",
       " 'Botswana',\n",
       " 'Burkina Faso',\n",
       " 'Burundi',\n",
       " 'Cameroon',\n",
       " 'Central African Republic',\n",
       " 'Chad',\n",
       " 'Comoros',\n",
       " 'Congo, Dem. Rep.',\n",
       " 'Congo, Rep.',\n",
       " \"Cote d'Ivoire\",\n",
       " 'Equatorial Guinea',\n",
       " 'Eritrea',\n",
       " 'Gabon',\n",
       " 'Gambia',\n",
       " 'Ghana',\n",
       " 'Guinea',\n",
       " 'Guinea-Bissau',\n",
       " 'Haiti',\n",
       " 'Iraq',\n",
       " 'Kenya',\n",
       " 'Kiribati',\n",
       " 'Lao',\n",
       " 'Lesotho',\n",
       " 'Liberia',\n",
       " 'Madagascar',\n",
       " 'Malawi',\n",
       " 'Mali',\n",
       " 'Mauritania',\n",
       " 'Mozambique',\n",
       " 'Namibia',\n",
       " 'Niger',\n",
       " 'Nigeria',\n",
       " 'Pakistan',\n",
       " 'Rwanda',\n",
       " 'Senegal',\n",
       " 'Sierra Leone',\n",
       " 'Solomon Islands',\n",
       " 'South Africa',\n",
       " 'Sudan',\n",
       " 'Tanzania',\n",
       " 'Timor-Leste',\n",
       " 'Togo',\n",
       " 'Uganda',\n",
       " 'Yemen',\n",
       " 'Zambia']"
      ]
     },
     "execution_count": 85,
     "metadata": {},
     "output_type": "execute_result"
    }
   ],
   "source": [
    "seg_1 = []\n",
    "for i in range(len(df_kmeans_pca)):\n",
    "    if df_kmeans_pca['Segment K-Means PCA'][i] == 1:\n",
    "        seg_1.append(df_kmeans_pca['country'][i])\n",
    "seg_1"
   ]
  },
  {
   "cell_type": "code",
   "execution_count": 87,
   "metadata": {
    "scrolled": true
   },
   "outputs": [
    {
     "data": {
      "text/plain": [
       "['Australia',\n",
       " 'Austria',\n",
       " 'Belgium',\n",
       " 'Brunei',\n",
       " 'Canada',\n",
       " 'Cyprus',\n",
       " 'Denmark',\n",
       " 'Finland',\n",
       " 'France',\n",
       " 'Germany',\n",
       " 'Greece',\n",
       " 'Iceland',\n",
       " 'Ireland',\n",
       " 'Israel',\n",
       " 'Italy',\n",
       " 'Japan',\n",
       " 'Kuwait',\n",
       " 'Malta',\n",
       " 'Netherlands',\n",
       " 'New Zealand',\n",
       " 'Norway',\n",
       " 'Qatar',\n",
       " 'Slovenia',\n",
       " 'Spain',\n",
       " 'Sweden',\n",
       " 'Switzerland',\n",
       " 'United Arab Emirates',\n",
       " 'United Kingdom',\n",
       " 'United States']"
      ]
     },
     "execution_count": 87,
     "metadata": {},
     "output_type": "execute_result"
    }
   ],
   "source": [
    "seg_2 = []\n",
    "for i in range(len(df_kmeans_pca)):\n",
    "    if df_kmeans_pca['Segment K-Means PCA'][i] == 2:\n",
    "        seg_2.append(df_kmeans_pca['country'][i])\n",
    "seg_2"
   ]
  },
  {
   "cell_type": "code",
   "execution_count": 88,
   "metadata": {},
   "outputs": [
    {
     "data": {
      "text/plain": [
       "['Luxembourg', 'Singapore']"
      ]
     },
     "execution_count": 88,
     "metadata": {},
     "output_type": "execute_result"
    }
   ],
   "source": [
    "seg_3 = []\n",
    "for i in range(len(df_kmeans_pca)):\n",
    "    if df_kmeans_pca['Segment K-Means PCA'][i] == 3:\n",
    "        seg_3.append(df_kmeans_pca['country'][i])\n",
    "seg_3"
   ]
  },
  {
   "cell_type": "markdown",
   "metadata": {},
   "source": [
    "# Conclusion"
   ]
  },
  {
   "cell_type": "markdown",
   "metadata": {},
   "source": [
    "Based on the clustering, we can tell that HELP international should focus on the countries listed in seg_1. \n"
   ]
  }
 ],
 "metadata": {
  "kernelspec": {
   "display_name": "Python 3",
   "language": "python",
   "name": "python3"
  },
  "language_info": {
   "codemirror_mode": {
    "name": "ipython",
    "version": 3
   },
   "file_extension": ".py",
   "mimetype": "text/x-python",
   "name": "python",
   "nbconvert_exporter": "python",
   "pygments_lexer": "ipython3",
   "version": "3.7.6"
  }
 },
 "nbformat": 4,
 "nbformat_minor": 4
}
